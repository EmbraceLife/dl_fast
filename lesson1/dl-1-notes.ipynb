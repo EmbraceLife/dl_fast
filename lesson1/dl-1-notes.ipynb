{
 "cells": [
  {
   "cell_type": "markdown",
   "metadata": {
    "heading_collapsed": true
   },
   "source": [
    "## **Lesson 1 overview**"
   ]
  },
  {
   "cell_type": "markdown",
   "metadata": {
    "hidden": true
   },
   "source": [
    "> Why math is taught badly in US? [see video](https://youtu.be/kzt3-FHdAeM?t=2m33s)\n",
    "- a math professor go back to primary school to teach math \n",
    "- teaching music or swim or baseball analogy\n",
    "- like how dl is taught\n",
    "\n",
    "----\n",
    "\n",
    "> Special teaching approach of deep learning [see video](https://youtu.be/kzt3-FHdAeM?t=5m6s)\n",
    "- most dl course is exclusive rather than inclusive\n",
    "- make things as simple as possible \n",
    "- understand math and theory by experimenting with code \n",
    "- use kaggle benchmark to achieve state-of-art result\n",
    "\n",
    "----\n",
    "\n",
    "> A piece of code example [see video](https://youtu.be/kzt3-FHdAeM?t=10m57s)\n",
    "- ?? to check out doc of a function \n",
    "- shift-tab: one time, two time, three time \n",
    "- have code, notes, together is better way to learn \n",
    "- read doc on google [see video](https://youtu.be/kzt3-FHdAeM?t=14m22s)\n",
    "- this 6 line of code can do any kind of image classification problems [see video](https://youtu.be/kzt3-FHdAeM?t=15m14s)\n",
    "\n",
    "----\n",
    "\n",
    "> what students and teacher say about this course [see video](https://youtu.be/kzt3-FHdAeM?t=16m24s)\n",
    "- student's experience on using code: pay more attention to code is wise, not on theory\n",
    "- understand theory by coding \n",
    "- try your own problems and data from the first lesson \n",
    "\n",
    "----\n",
    "\n",
    "> 10 hours a week at least [see video](https://youtu.be/kzt3-FHdAeM?t=23m38s)\n",
    "- do use wiki, notes, and other resources for each lesson \n",
    "- once you understand the notebook, then rewrite a notebook on your own \n",
    "- apply your own problem and data\n",
    "\n",
    "\n",
    "----\n",
    "\n",
    "> what will be done every time use deep learning [see video](https://youtu.be/kzt3-FHdAeM?t=29m17s)\n",
    "\n",
    "----"
   ]
  },
  {
   "cell_type": "markdown",
   "metadata": {},
   "source": [
    "## Lesson 1 Content"
   ]
  },
  {
   "cell_type": "markdown",
   "metadata": {
    "heading_collapsed": true
   },
   "source": [
    "### **Use iTem2 instead of tmux** "
   ]
  },
  {
   "cell_type": "markdown",
   "metadata": {
    "hidden": true
   },
   "source": [
    "> - vertical line split: cmd + d\n",
    "- horizontal line split: shift + cmd + d\n",
    "- reverse split: ctrl + d\n",
    "\n",
    "----"
   ]
  },
  {
   "cell_type": "markdown",
   "metadata": {
    "heading_collapsed": true
   },
   "source": [
    "### **Heavy useage of GPU or Cloud computing**    "
   ]
  },
  {
   "cell_type": "markdown",
   "metadata": {
    "hidden": true
   },
   "source": [
    "> AWH service [see lesson](https://youtu.be/Th_ckFbc6bI?t=11m28s)"
   ]
  },
  {
   "cell_type": "markdown",
   "metadata": {
    "heading_collapsed": true
   },
   "source": [
    "### **How to download files and dataset** [see](https://youtu.be/Th_ckFbc6bI?t=47m35s)"
   ]
  },
  {
   "cell_type": "markdown",
   "metadata": {
    "hidden": true
   },
   "source": [
    "> Files and Dataet for Lesson 1\n",
    "- [files link](http://www.platform.ai/files/)\n",
    "- [dataset link](http://www.platform.ai/data/)\n",
    "- wget http:...\n",
    "- unzip -q filename\n",
    "\n",
    "----"
   ]
  },
  {
   "cell_type": "markdown",
   "metadata": {
    "heading_collapsed": true
   },
   "source": [
    "### **Why use or train an already trained model? [see video](https://youtu.be/Th_ckFbc6bI?t=1h19m23s)**     "
   ]
  },
  {
   "cell_type": "markdown",
   "metadata": {
    "hidden": true
   },
   "source": [
    "> - we do finetuning on pre-trained model like VGG16()\n",
    "    - VGG16 works on many categories, not just cat and dog\n",
    "    - VGG16 provide many categories with probabilities \n",
    "    - we finetune this model to work on cat and dog"
   ]
  },
  {
   "cell_type": "markdown",
   "metadata": {
    "heading_collapsed": true
   },
   "source": [
    "### Configure on theano and tensorflow"
   ]
  },
  {
   "cell_type": "markdown",
   "metadata": {
    "heading_collapsed": true,
    "hidden": true
   },
   "source": [
    "#### **How to switch between theano and tensorflow** [video](https://youtu.be/Th_ckFbc6bI?t=1h27m31s)    "
   ]
  },
  {
   "cell_type": "markdown",
   "metadata": {
    "hidden": true
   },
   "source": [
    "> - find .keras/ folder in home directory\n",
    "```\n",
    "cd .keras/\n",
    "```\n",
    "- open .keras/keras.json with vim\n",
    "```\n",
    "vim keras.json\n",
    "```\n",
    "- exit vim by \n",
    "```\n",
    ":q (enter)\n",
    "```\n",
    "- switch between theano and tensorflow by change names [see video](https://youtu.be/Th_ckFbc6bI?t=1h27m50s)"
   ]
  },
  {
   "cell_type": "markdown",
   "metadata": {
    "heading_collapsed": true,
    "hidden": true
   },
   "source": [
    "#### **Check .theanorc configuration**    "
   ]
  },
  {
   "cell_type": "markdown",
   "metadata": {
    "hidden": true
   },
   "source": [
    "> - open file in home directory\n",
    "```\n",
    "vim .theanorc\n",
    "```\n",
    "- t2 instance use `cpu`\n",
    "- p2 instance use `gpu`"
   ]
  },
  {
   "cell_type": "markdown",
   "metadata": {
    "heading_collapsed": true
   },
   "source": [
    "### **How to download youtube videos [link](https://github.com/rg3/youtube-dl/blob/master/README.md#readme)**    "
   ]
  },
  {
   "cell_type": "markdown",
   "metadata": {
    "hidden": true
   },
   "source": [
    "- simply type \n",
    "    `youtube_dl url`\n",
    "    \n",
    "----"
   ]
  },
  {
   "cell_type": "markdown",
   "metadata": {},
   "source": [
    "### **How to install Kaggle-CLI and download kaggle dataset and submit?** [link](https://github.com/floydwch/kaggle-cli)     "
   ]
  },
  {
   "cell_type": "markdown",
   "metadata": {
    "collapsed": true
   },
   "source": [
    "> - start an AWS instance \n",
    "- install Kaggle-CLI\n",
    "```\n",
    "pip install kaggle-cli\n",
    "```\n",
    "- configure Kaggle-CLI with my kaggle account \n",
    "```\n",
    "kg config -g -u danielliao -p password -c dogs-vs-cats-redux-kernels-edition\n",
    "```\n",
    "- how to find kg competition name\n",
    "    - go to kg competition website and copy on the http name of the competition\n",
    "- start downloading \n",
    "```\n",
    "kg download\n",
    "```\n",
    "- submit \n",
    "```\n",
    "kg config -c titanic-gettingStarted -u USERNAME -p PASSWORD\n",
    "kg submit sampleSubmission.csv -m \"Enter a brief description of this submission here.\"\n",
    "```"
   ]
  },
  {
   "cell_type": "markdown",
   "metadata": {
    "heading_collapsed": true
   },
   "source": [
    "### Bash command cheatsheet [link](http://wiki.fast.ai/index.php/Bash)"
   ]
  },
  {
   "cell_type": "markdown",
   "metadata": {
    "heading_collapsed": true,
    "hidden": true
   },
   "source": [
    "#### **How to glimpse data from terminal** [video](https://youtu.be/Th_ckFbc6bI?t=57m56s)"
   ]
  },
  {
   "cell_type": "markdown",
   "metadata": {
    "hidden": true
   },
   "source": [
    "> - Check file by name expression [see code in video](https://youtu.be/Th_ckFbc6bI?t=55m8s)\n",
    "```\n",
    "ls data/dogscats/sample/train/dogs/dog.10*\n",
    "```\n",
    "- count number of items in a folder \n",
    "```\n",
    "ls data/dogscats/sample/train/dogs/ | wc -l\n",
    "```\n",
    "- data structure \n",
    "    - Train, Validation, Test, Sample folders\n",
    "    - under each (except Test folder), dogs and cats folders\n",
    "\n",
    "----"
   ]
  },
  {
   "cell_type": "markdown",
   "metadata": {
    "heading_collapsed": true,
    "hidden": true
   },
   "source": [
    "#### **Basic terminal commands?**     "
   ]
  },
  {
   "cell_type": "markdown",
   "metadata": {
    "hidden": true
   },
   "source": [
    "> skills set 1 [see video](https://youtu.be/eoejHvAPDFs?t=2m6s)\n",
    "- create a file: touch\n",
    "- open a file: open \n",
    "- create a folder: mkdir\n",
    "- look inside a file: ls\n",
    "- get working directory: pwd\n",
    "\n",
    "> skills set 2 [see video](https://youtu.be/eoejHvAPDFs?t=4m17s)\n",
    "- copy a file to a different folder: \n",
    "```\n",
    "cp file_name ../another_folder/a_new_file_name (parallel folder with a new name)\n",
    "```\n",
    "- move a file to a different folder: \n",
    "```\n",
    "mv file_name subfolder/a_new_file_name (subfolder, with a new name)\n",
    "```\n",
    "- rename a file: \n",
    "```\n",
    "mv file_name_file a_new_name_file\n",
    "```\n",
    "- delete a file: rm file_name\n",
    "\n",
    "> skills set 3 [see video](https://youtu.be/eoejHvAPDFs?t=7m3s)\n",
    "- get doc on command: man cp \n",
    "- copy a folder: \n",
    "```\n",
    "cp -R folder_name/ new_folder_name/  (given both folders exist)\n",
    "```\n",
    "> skills set 4 [see video](https://youtu.be/eoejHvAPDFs?t=9m30s)\n",
    "- rename a folder: \n",
    "```\n",
    "mv folder_name a_new_folder_name\n",
    "```\n",
    "- move a folder within another folder: \n",
    "```\n",
    "mv folder_name/ a_new_folder_name/  (/ makes a different)\n",
    "```\n",
    "- move a folder to upper directory and give it a different name\n",
    "```\n",
    "mv folder_name/ ../new_folder_name      (no / at the end)\n",
    "```\n",
    "- remove a directory \n",
    "```\n",
    "rm -R folder_name/     \n",
    "```\n",
    "- when forcing delete against all errors\n",
    "```\n",
    "rm -rf folder_name/\n",
    "```\n",
    "- search all files under a folder\n",
    "```\n",
    "ls lah folder/\n",
    "```\n",
    "\n",
    "----"
   ]
  },
  {
   "cell_type": "markdown",
   "metadata": {
    "heading_collapsed": true,
    "hidden": true
   },
   "source": [
    "#### find command [see video](https://youtu.be/KCVaNb_zOuw?t=1m27s) "
   ]
  },
  {
   "cell_type": "markdown",
   "metadata": {
    "hidden": true
   },
   "source": [
    "> - find all folders and files inside current directory\n",
    "```\n",
    "find . \n",
    "```\n",
    "- find all inside a folder \n",
    "```\n",
    "find folder_name/\n",
    "```\n",
    "- find all folders in current directory\n",
    "```\n",
    "find . -type d\n",
    "```\n",
    "- find all folders under a specific directory\n",
    "```\n",
    "find pydata-book-master/ch02 -type d\n",
    "```\n",
    "- find all files under a specific directory\n",
    "```\n",
    "find pydata-book-master/ch02 -type f\n",
    "```\n",
    "- find a file by name \n",
    "```\n",
    "find pydata-book-master/ch02 -type f -name \"file_name.txt\"\n",
    "find pydata-book-master/ch02 -type f -name \"fil*.txt\"\n",
    "```\n",
    "- find a file or files by name without case sensitive \n",
    "```\n",
    "find pydata-book-master/ch02 -type f -iname \"fil*.txt\"\n",
    "```\n",
    "- find all python files \n",
    "```\n",
    "find pydata-book-master/ch02 -type f -iname \"*.python\"\n",
    "```\n",
    "- find files edited more than 1 minute ago and less than 5 minutes ago \n",
    "```\n",
    "find pydata-book-master/ch02 -type f -mmin +1 -mmin -5\n",
    "```\n",
    "\n",
    "----\n",
    "\n",
    "> find files using time [see video](https://youtu.be/KCVaNb_zOuw?t=6m41s)\n",
    "- find by time\n",
    "- find by file size  [see video](https://youtu.be/KCVaNb_zOuw?t=8m36s)\n",
    "\n",
    "----\n",
    "\n",
    "> count certain files with * expression \n",
    "```\n",
    "ls kg_catsdogs_redux/train/dog* | wc -l\n",
    "```"
   ]
  },
  {
   "cell_type": "markdown",
   "metadata": {
    "heading_collapsed": true
   },
   "source": [
    "### **Kaggle cats and dogs dataset**"
   ]
  },
  {
   "cell_type": "markdown",
   "metadata": {
    "hidden": true
   },
   "source": [
    "> dataset\n",
    "- train 25000 images\n",
    "    - dog 12500\n",
    "    - cat 12500\n",
    "- test 12500 images\n",
    "- "
   ]
  },
  {
   "cell_type": "code",
   "execution_count": null,
   "metadata": {
    "collapsed": true,
    "hidden": true
   },
   "outputs": [],
   "source": []
  }
 ],
 "metadata": {
  "kernelspec": {
   "display_name": "Python 2",
   "language": "python",
   "name": "python2"
  },
  "language_info": {
   "codemirror_mode": {
    "name": "ipython",
    "version": 2
   },
   "file_extension": ".py",
   "mimetype": "text/x-python",
   "name": "python",
   "nbconvert_exporter": "python",
   "pygments_lexer": "ipython2",
   "version": "2.7.12"
  }
 },
 "nbformat": 4,
 "nbformat_minor": 1
}
